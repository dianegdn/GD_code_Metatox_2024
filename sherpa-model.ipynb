{
 "cells": [
  {
   "cell_type": "markdown",
   "id": "3d925973-f443-4c8a-8af6-90ee4180e8b9",
   "metadata": {},
   "source": [
    "# SHERPA module 1: Scenarios"
   ]
  },
  {
   "cell_type": "code",
   "execution_count": null,
   "id": "87009e13-2936-4a03-8a23-fba2d32b0162",
   "metadata": {},
   "outputs": [],
   "source": [
    "#import required libraries\n",
    "import xarray as xr\n",
    "import pandas as pd\n",
    "import os\n",
    "import matplotlib.pyplot as plt\n",
    "from module1 import module1"
   ]
  },
  {
   "cell_type": "markdown",
   "id": "c17f572c-005b-4ac6-91ad-7e9b894be72e",
   "metadata": {},
   "source": [
    "## 1. Loop on percentage reductions (main analysis)"
   ]
  },
  {
   "cell_type": "code",
   "execution_count": 2,
   "id": "9219b5dd-367c-443e-bf3d-a59e277135a4",
   "metadata": {},
   "outputs": [],
   "source": [
    "#Chosen air quality index: PM2.5, NO2, O3\n",
    "#Chosen pollutant reduction: PM2.5, PM10, COVNM, SO2 and NOx for GNFR3 sector (residential)\n",
    "#Chosen pollutant reduction: PM2.5, PM10, COVNM, SO2 and NOx for GNFR6 sector (road transport)\n",
    "#Chosen pollutant reduction: PM2.5, PM10, COVNM, SO2 and NOx for GNFR7 sector (maritime transport)\n",
    "#Chosen pollutant reduction: PM2.5, PM10, COVNM, SO2 and NOx for GNFR8 sector (aviation)\n",
    "#Chosen pollutant reduction: PM2.5, PM10, COVNM, SO2 and NOx for GNFR9 sector (train)\n",
    "#Chosen pollutant reduction: NH3 for GNFR11 sector (manure)\n",
    "#Chosen pollutant reduction: NH3 for GNFR12 sector (culture)"
   ]
  },
  {
   "cell_type": "code",
   "execution_count": 2,
   "id": "6c2011a6-ee3b-46e0-a088-fbf1ef1f7bd5",
   "metadata": {},
   "outputs": [
    {
     "name": "stdout",
     "output_type": "stream",
     "text": [
      "progress:3.713188progress:8.450704progress:13.060179progress:16.901408progress:20.486556progress:23.431498progress:27.144686progress:30.985915progress:34.186940progress:37.131882progress:39.564661progress:42.381562progress:45.582586progress:48.655570progress:51.472471progress:54.417414progress:58.258643progress:62.483995progress:66.709347progress:71.062740progress:75.032010progress:78.361076progress:82.586428progress:87.323944progress:91.805378progress:97.311140progress:0.768246progress:1.664533progress:2.688860progress:3.841229progress:5.249680progress:6.658131progress:8.066581progress:9.859155progress:11.267606progress:12.548015progress:13.700384progress:14.724712progress:15.877081progress:17.029449progress:18.053777progress:19.078105progress:20.102433progress:21.126761progress:22.023047progress:22.919334progress:23.815621progress:24.839949progress:25.736236progress:26.632522progress:27.656850progress:28.553137progress:29.577465progress:30.601793progress:31.626120progress:32.522407progress:33.290653progress:34.186940progress:35.083227progress:35.851472progress:36.619718progress:37.387964progress:38.156210progress:38.924456progress:39.692702progress:40.332907progress:41.101152progress:41.869398progress:42.637644progress:43.405890progress:44.174136progress:44.942382progress:45.710627progress:46.478873progress:47.247119progress:47.887324progress:48.655570progress:49.423816progress:50.064020progress:50.704225progress:51.472471progress:52.240717progress:53.008963progress:53.777209progress:54.545455progress:55.313700progress:56.209987progress:57.234315progress:58.258643progress:59.411012progress:60.435339progress:61.459667progress:62.483995progress:63.508323progress:64.660691progress:65.941101progress:66.965429progress:68.117798progress:69.142125progress:70.294494progress:71.446863progress:72.471191progress:73.495519progress:74.135723progress:75.032010progress:76.056338progress:76.952625progress:77.976953progress:79.001280progress:80.025608progress:81.049936progress:82.074264progress:83.226633progress:84.507042progress:85.659411progress:86.811780progress:87.964149progress:89.116517progress:90.396927progress:91.677337progress:92.957746progress:94.238156progress:96.030730progress:99.871959\r"
     ]
    }
   ],
   "source": [
    "#4 reduction scenarios\n",
    "sc_input = [\"s1\", \"s2\", \"s3\", \"s4\"]\n",
    "yrs_input = [\"2019\", \"2030\", \"2050\"] #years for which you have an emission reduction prediction\n",
    "aqi_input = [\"ug_NO2\", \"ug_PM25_rh50\"]#[\"ppb_O3\", \"ug_NO\", \"ug_NO2\", \"ug_PM10_rh50\", \"ug_PM25_rh50\"] #air quality index \n",
    "\n",
    "#define reduction area\n",
    "path_area_cdf_test = './input/reduction_areas/emiRedOn_01005_France.nc'#London_emepCams_0_100_FLIP.nc'\n",
    "area = xr.open_dataset(path_area_cdf_test)\n",
    "area\n",
    "\n",
    "#load basecase emissions \n",
    "path_emission_cdf_test = './input/BC_emiss/BCemis_emepV4_45_cams61_withCond_01005_2019_SecEmis.nc'\n",
    "emis = xr.open_dataset(path_emission_cdf_test)\n",
    "emis\n",
    "\n",
    "for p in aqi_input:  \n",
    "    \n",
    "    #load basecase concentrations\n",
    "    path_base_conc_cdf_test = f'./input/BC_concs/BCconc_emepV4_45_cams61_withCond_01005_2019_SURF_{p}.nc'\n",
    "    conc = xr.open_dataset(path_base_conc_cdf_test)\n",
    "    #load the SRR model\n",
    "    path_model_cdf_test = f'./input/SRR/SR_SURF_{p}.nc' \n",
    "    srr = xr.open_dataset(path_model_cdf_test)\n",
    "\n",
    "    for s in sc_input:\n",
    "        for y in yrs_input:\n",
    "\n",
    "            #define percentage reductions\n",
    "            path_reduction_txt_test = f'./input/reduction_perc/{s}/reduction_GNFR_{s}_{y}.txt'#user_reduction_GNFR_all.txt'\n",
    "            pd.read_csv(path_reduction_txt_test, sep='\\t')\n",
    "\n",
    "            #define output area and downscaling (not implemented now)\n",
    "            path_result_cdf_test = f'./output/{s}/'\n",
    "            downscale_request = 0 # 0 if you do not need downscale, 1 if you need downscale but only for PM concentrations\n",
    "\n",
    "            #run the model and inspect the results - running time around 1 minute\n",
    "            name_result = \"DCconc_\" + s + \"_\" + y + \"_\"\n",
    "            res = module1(path_emission_cdf_test, path_area_cdf_test, path_reduction_txt_test, path_base_conc_cdf_test, \n",
    "                      path_model_cdf_test, path_result_cdf_test, name_result, downscale_request)\n",
    "    "
   ]
  },
  {
   "cell_type": "markdown",
   "id": "f7283529-469c-4320-af45-61bd6160bef7",
   "metadata": {},
   "source": [
    "## 2. Loop on three sectors: AGRI (agricultural), RES (residential) and TRANS (transport)"
   ]
  },
  {
   "cell_type": "code",
   "execution_count": 2,
   "id": "41ce4f41-8dd3-4d0e-9ba7-1ae60c2fa5ba",
   "metadata": {},
   "outputs": [
    {
     "name": "stdout",
     "output_type": "stream",
     "text": [
      "progress:2.944942progress:7.938540progress:13.188220progress:17.285531progress:20.870679progress:24.455826progress:28.681178progress:32.650448progress:36.107554progress:39.308579progress:42.381562progress:45.838668progress:49.167734progress:52.240717progress:55.441741progress:59.667093progress:64.148528progress:68.117798progress:72.087068progress:76.056338progress:80.153649progress:84.763124progress:87.451985progress:90.653009progress:94.494238progress:3.841229progress:9.346991progress:14.212548progress:18.693982progress:22.535211progress:26.504481progress:30.345711progress:33.802817progress:37.131882progress:40.332907progress:43.533931progress:46.862996progress:49.935980progress:53.008963progress:56.338028progress:60.435339progress:64.660691progress:69.014085progress:72.599232progress:76.056338progress:79.513444progress:83.226633progress:86.811780progress:90.268886progress:93.725992progress:3.713188progress:8.834827progress:13.572343progress:17.797695progress:21.638924progress:25.352113progress:29.193342progress:32.906530progress:36.363636progress:39.564661progress:42.637644progress:45.966709progress:49.039693progress:51.984635progress:55.057618progress:59.026889progress:63.252241progress:67.733675progress:72.087068progress:76.184379progress:80.025608progress:84.507042progress:89.244558progress:93.982074progress:4.353393progress:9.090909progress:13.956466progress:17.925736progress:21.895006progress:25.864277progress:30.089629progress:33.802817progress:37.131882progress:40.204866progress:43.149808progress:46.478873progress:49.679898progress:52.496799progress:55.697823progress:59.667093progress:63.892446progress:68.373880progress:72.599232progress:76.696543progress:80.793854progress:85.531370progress:90.140845progress:94.750320progress:4.353393progress:9.859155progress:14.724712progress:19.078105progress:22.535211progress:26.376440progress:30.217670progress:33.930858progress:37.259923progress:40.332907progress:43.533931progress:46.862996progress:49.935980progress:52.880922progress:56.209987progress:60.435339progress:64.532650progress:69.014085progress:73.239437progress:77.336748progress:81.562100progress:86.171575progress:90.781050progress:95.518566progress:3.969270progress:8.962868progress:13.828425progress:18.181818progress:22.023047progress:26.120359progress:30.217670progress:33.674776progress:37.003841progress:40.076825progress:43.021767progress:46.350832progress:49.423816progress:52.496799progress:55.825864progress:60.051216progress:64.404609progress:68.886044progress:73.239437progress:77.336748progress:81.306018progress:86.043534progress:90.653009progress:95.902689progress:4.225352progress:9.859155progress:14.724712progress:18.822023progress:22.535211progress:26.504481progress:30.601793progress:34.443022progress:37.772087progress:40.845070progress:43.661972progress:46.862996progress:49.935980progress:52.752881progress:55.953905progress:60.051216progress:64.404609progress:68.886044progress:72.983355progress:76.952625progress:81.049936progress:85.659411progress:90.268886progress:95.006402progress:4.353393progress:9.859155progress:14.596671progress:18.822023progress:22.663252progress:26.632522progress:30.601793progress:34.058899progress:37.387964progress:40.460948progress:43.661972progress:46.862996progress:49.935980progress:52.496799progress:55.697823progress:59.667093progress:63.892446progress:67.861716progress:71.959027progress:75.928297progress:80.025608progress:84.635083progress:89.372599progress:94.110115progress:3.969270progress:9.346991progress:14.340589progress:18.693982progress:22.663252progress:26.888604progress:30.985915progress:34.699104progress:38.028169progress:41.101152progress:44.174136progress:47.503201progress:50.576184progress:53.649168progress:57.362356progress:61.715749progress:65.685019progress:70.038412progress:74.263764progress:78.233035progress:82.458387progress:87.323944progress:92.061460progress:98.207426progress:4.481434progress:10.115237progress:14.980794progress:19.334187progress:23.047375progress:27.144686progress:31.241997progress:34.827145progress:38.156210progress:41.101152progress:44.302177progress:47.631242progress:50.704225progress:53.649168progress:57.106274progress:61.203585progress:65.556978progress:69.782330progress:74.007682progress:77.976953progress:81.690141progress:86.171575progress:90.909091progress:95.646607progress:4.225352progress:9.603073progress:14.340589progress:18.693982progress:22.663252progress:26.760563progress:30.857875progress:34.443022progress:37.644046progress:40.588988progress:43.661972progress:46.991037progress:50.064020progress:53.008963progress:56.466069progress:60.819462progress:64.916773progress:69.014085progress:73.239437progress:77.336748progress:81.562100progress:86.299616progress:91.037132progress:95.390525progress:4.225352progress:9.475032progress:14.340589progress:18.309859progress:21.638924progress:25.096031progress:28.681178progress:32.010243progress:35.083227progress:37.772087progress:40.204866progress:42.893726progress:46.094750progress:49.167734progress:52.112676progress:55.313700progress:59.026889progress:63.380282progress:67.733675progress:71.959027progress:76.056338progress:80.025608progress:84.635083progress:89.372599progress:93.982074progress:0.896287progress:2.048656progress:3.201024progress:4.481434progress:5.889885progress:7.042254progress:8.578745progress:10.243278progress:11.523688progress:12.804097progress:13.956466progress:15.108835progress:16.133163progress:17.157490progress:18.181818progress:19.206146progress:20.230474progress:21.126761progress:22.023047progress:22.919334progress:23.815621progress:24.839949progress:25.864277progress:26.888604progress:27.784891progress:28.809219progress:29.833547progress:30.729834progress:31.626120progress:32.522407progress:33.290653progress:34.058899progress:34.827145progress:35.595391progress:36.363636progress:37.003841progress:37.772087progress:38.540333progress:39.308579progress:39.948784progress:40.588988progress:41.229193progress:41.869398progress:42.637644progress:43.405890progress:44.174136progress:44.942382progress:45.710627progress:46.478873progress:47.119078progress:47.759283progress:48.527529progress:49.295775progress:49.935980progress:50.576184progress:51.216389progress:51.856594progress:52.496799progress:53.137004progress:53.777209progress:54.545455progress:55.313700progress:56.081946progress:56.978233progress:58.002561progress:59.026889progress:60.051216progress:61.075544progress:61.971831progress:62.996159progress:63.892446progress:64.916773progress:66.069142progress:67.093470progress:68.117798progress:69.142125progress:70.166453progress:71.318822progress:72.215109progress:73.111396progress:74.135723progress:75.032010progress:75.928297progress:76.824584progress:77.848912progress:78.745198progress:79.769526progress:80.665813progress:81.818182progress:82.970551progress:84.122919progress:85.275288progress:86.427657progress:87.580026progress:88.604353progress:89.756722progress:90.909091progress:91.933419progress:93.085787progress:94.366197progress:95.902689progress:98.463508progress:0.768246progress:1.792574progress:2.944942progress:4.225352progress:5.633803progress:6.914213progress:8.322663progress:9.987196progress:11.267606progress:12.419974progress:13.572343progress:14.596671progress:15.749040progress:16.773367progress:17.797695progress:18.822023progress:19.846351progress:20.742638progress:21.638924progress:22.535211progress:23.431498progress:24.327785progress:25.352113progress:26.376440progress:27.272727progress:28.169014progress:29.193342progress:30.217670progress:31.113956progress:32.010243progress:32.778489progress:33.546735progress:34.443022progress:35.211268progress:35.979513progress:36.619718progress:37.387964progress:38.156210progress:38.924456progress:39.564661progress:40.204866progress:40.845070progress:41.613316progress:42.381562progress:43.149808progress:43.918054progress:44.686300progress:45.454545progress:46.222791progress:46.991037progress:47.759283progress:48.527529progress:49.167734progress:49.935980progress:50.576184progress:51.216389progress:51.856594progress:52.496799progress:53.137004progress:53.905250progress:54.673496progress:55.441741progress:56.209987progress:57.234315progress:58.258643progress:59.282971progress:60.307298progress:61.331626progress:62.355954progress:63.380282progress:64.404609progress:65.685019progress:66.709347progress:67.733675progress:68.758003progress:69.782330progress:70.934699progress:71.830986progress:72.727273progress:73.751601progress:74.775928progress:75.672215progress:76.568502progress:77.592830progress:78.489117progress:79.513444progress:80.537772progress:81.562100progress:82.714469progress:83.866837progress:85.019206progress:86.171575progress:87.323944progress:88.476312progress:89.628681progress:90.781050progress:91.933419progress:93.085787progress:94.366197progress:96.030730progress:99.359795progress:0.896287progress:1.920615progress:3.072983progress:4.225352progress:5.633803progress:6.914213progress:8.322663progress:9.987196progress:11.267606progress:12.419974progress:13.572343progress:14.596671progress:15.620999progress:16.645327progress:17.669654progress:18.693982progress:19.590269progress:20.486556progress:21.382843progress:22.151088progress:23.047375progress:23.943662progress:24.839949progress:25.864277progress:26.888604progress:27.784891progress:28.681178progress:29.705506progress:30.601793progress:31.498079progress:32.394366progress:33.162612progress:33.930858progress:34.699104progress:35.467350progress:36.235595progress:36.875800progress:37.516005progress:38.156210progress:38.796415progress:39.436620progress:40.076825progress:40.717029progress:41.357234progress:41.997439progress:42.637644progress:43.277849progress:43.790013progress:44.430218progress:45.198464progress:45.966709progress:46.734955progress:47.375160progress:48.015365progress:48.783611progress:49.423816progress:50.064020progress:50.704225progress:51.344430progress:51.984635progress:52.624840progress:53.265045progress:53.905250progress:54.673496progress:55.441741progress:56.209987progress:57.106274progress:58.130602progress:59.154930progress:60.179257progress:61.203585progress:62.227913progress:63.124200progress:64.148528progress:65.300896progress:66.325224progress:67.349552progress:68.373880progress:69.270166progress:70.422535progress:71.446863progress:72.343150progress:73.239437progress:74.135723progress:75.032010progress:75.928297progress:76.824584progress:77.720871progress:78.617157progress:79.513444progress:80.409731progress:81.434059progress:82.586428progress:83.610755progress:84.763124progress:85.915493progress:87.067862progress:88.092190progress:89.244558progress:90.396927progress:91.421255progress:92.573624progress:93.725992progress:95.006402progress:96.927017progress:0.896287progress:2.048656progress:3.201024progress:4.609475progress:6.017926progress:7.298335progress:8.834827progress:10.499360progress:11.651729progress:12.932138progress:14.084507progress:15.236876progress:16.389245progress:17.413572progress:18.309859progress:19.206146progress:20.102433progress:20.998720progress:21.895006progress:22.663252progress:23.559539progress:24.455826progress:25.480154progress:26.376440progress:27.272727progress:28.169014progress:29.065301progress:29.961588progress:30.857875progress:31.754161progress:32.522407progress:33.290653progress:34.058899progress:34.827145progress:35.595391progress:36.363636progress:37.003841progress:37.772087progress:38.412292progress:39.052497progress:39.692702progress:40.332907progress:40.973111progress:41.613316progress:42.253521progress:42.893726progress:43.533931progress:44.302177progress:45.070423progress:45.710627progress:46.478873progress:47.119078progress:47.759283progress:48.399488progress:49.039693progress:49.679898progress:50.320102progress:50.960307progress:51.600512progress:52.240717progress:52.880922progress:53.521127progress:54.161332progress:54.929577progress:55.697823progress:56.594110progress:57.618438progress:58.642766progress:59.667093progress:60.691421progress:61.587708progress:62.612036progress:63.636364progress:64.660691progress:65.813060progress:66.837388progress:67.989757progress:68.886044progress:70.038412progress:71.190781progress:72.215109progress:73.239437progress:74.263764progress:75.288092progress:76.312420progress:77.336748progress:78.361076progress:79.513444progress:80.665813progress:81.818182progress:83.098592progress:84.379001progress:85.659411progress:86.811780progress:88.092190progress:89.244558progress:90.524968progress:91.805378progress:93.085787progress:94.238156progress:96.030730progress:1.024328progress:2.176697progress:3.329065progress:4.737516progress:6.145967progress:7.426376progress:9.218950progress:10.883483progress:12.163892progress:13.444302progress:14.596671progress:15.749040progress:16.901408progress:18.053777progress:19.078105progress:20.102433progress:21.126761progress:22.151088progress:23.175416progress:24.199744progress:25.224072progress:26.376440progress:27.400768progress:28.297055progress:29.321383progress:30.345711progress:31.370038progress:32.266325progress:33.162612progress:34.058899progress:34.827145progress:35.595391progress:36.363636progress:37.131882progress:37.900128progress:38.668374progress:39.436620progress:40.204866progress:40.973111progress:41.741357progress:42.509603progress:43.277849progress:44.046095progress:44.814341progress:45.582586progress:46.350832progress:47.119078progress:47.887324progress:48.655570progress:49.423816progress:50.192061progress:50.832266progress:51.600512progress:52.368758progress:53.137004progress:53.905250progress:54.673496progress:55.569782progress:56.466069progress:57.490397progress:58.514725progress:59.667093progress:60.819462progress:61.971831progress:62.996159progress:64.148528progress:65.428937progress:66.581306progress:67.733675progress:68.758003progress:69.910371progress:71.190781progress:72.215109progress:73.239437progress:74.263764progress:75.288092progress:76.312420progress:77.336748progress:78.361076progress:79.385403progress:80.537772progress:81.690141progress:82.970551progress:84.250960progress:85.531370progress:86.811780progress:87.580026progress:88.604353progress:89.884763progress:91.037132progress:92.317542progress:93.597951progress:95.134443progress:97.311140progress:0.896287progress:2.048656progress:3.329065progress:4.737516progress:6.145967progress:7.554417progress:9.346991progress:10.755442progress:11.779770progress:13.060179progress:14.212548progress:15.364917progress:16.517286progress:17.669654progress:18.693982progress:19.718310progress:20.614597progress:21.638924progress:22.535211progress:23.431498progress:24.455826progress:25.480154progress:26.632522progress:27.656850progress:28.681178progress:29.705506progress:30.729834progress:31.754161progress:32.650448progress:33.546735progress:34.443022progress:35.339309progress:36.107554progress:36.875800progress:37.644046progress:38.412292progress:39.180538progress:39.948784progress:40.717029progress:41.357234progress:42.125480progress:42.893726progress:43.661972progress:44.430218progress:45.198464progress:45.966709progress:46.734955progress:47.503201progress:48.143406progress:48.911652progress:49.679898progress:50.448143progress:51.216389progress:51.984635progress:52.752881progress:53.521127progress:54.289373progress:55.057618progress:55.953905progress:56.978233progress:58.002561progress:59.154930progress:60.179257progress:61.331626progress:62.483995progress:63.636364progress:64.660691progress:65.941101progress:67.093470progress:68.245839progress:69.270166progress:70.422535progress:71.574904progress:72.471191progress:73.495519progress:74.519846progress:75.416133progress:76.440461progress:77.464789progress:78.489117progress:79.513444progress:80.537772progress:81.690141progress:82.970551progress:84.250960progress:85.531370progress:86.811780progress:87.964149progress:89.244558progress:90.524968progress:91.805378progress:93.085787progress:94.494238progress:96.414853progress:1.024328progress:2.176697progress:3.457106progress:4.865557progress:6.274008progress:7.426376progress:9.218950progress:10.883483progress:12.035851progress:13.316261progress:14.468630progress:15.620999progress:16.773367progress:17.797695progress:18.822023progress:19.846351progress:20.870679progress:21.895006progress:22.791293progress:23.815621progress:24.839949progress:25.992318progress:27.016645progress:28.040973progress:29.065301progress:30.217670progress:31.241997progress:32.138284progress:33.034571progress:33.930858progress:34.827145progress:35.723431progress:36.491677progress:37.131882progress:37.900128progress:38.668374progress:39.308579progress:40.076825progress:40.845070progress:41.613316progress:42.381562progress:43.149808progress:43.918054progress:44.686300progress:45.582586progress:46.350832progress:47.119078progress:47.887324progress:48.655570progress:49.423816progress:50.064020progress:50.704225progress:51.472471progress:52.240717progress:53.008963progress:53.777209progress:54.545455progress:55.441741progress:56.338028progress:57.362356progress:58.386684progress:59.411012progress:60.563380progress:61.715749progress:62.740077progress:63.764405progress:64.916773progress:66.197183progress:67.349552progress:68.373880progress:69.526248progress:70.806658progress:71.830986progress:72.855314progress:73.879641progress:74.903969progress:75.928297progress:76.952625progress:77.976953progress:79.001280progress:80.025608progress:81.177977progress:82.458387progress:83.610755progress:84.891165progress:86.171575progress:87.451985progress:88.604353progress:89.756722progress:91.037132progress:92.189501progress:93.469910progress:94.878361progress:96.927017progress:1.024328progress:2.304738progress:3.585147progress:5.121639progress:6.530090progress:7.938540progress:9.859155progress:11.267606progress:12.548015progress:13.828425progress:14.980794progress:16.133163progress:17.285531progress:18.437900progress:19.462228progress:20.358515progress:21.382843progress:22.279129progress:23.303457progress:24.327785progress:25.480154progress:26.504481progress:27.400768progress:28.425096progress:29.577465progress:30.601793progress:31.626120progress:32.522407progress:33.418694progress:34.314981progress:35.211268progress:36.107554progress:36.875800progress:37.644046progress:38.412292progress:39.180538progress:39.948784progress:40.717029progress:41.485275progress:42.253521progress:43.021767progress:43.790013progress:44.558259progress:45.326504progress:46.094750progress:46.862996progress:47.631242progress:48.399488progress:49.167734progress:49.807939progress:50.448143progress:51.216389progress:51.984635progress:52.752881progress:53.521127progress:54.289373progress:55.057618progress:55.953905progress:56.978233progress:58.002561progress:59.154930progress:60.307298progress:61.459667progress:62.483995progress:63.636364progress:64.788732progress:66.069142progress:67.221511progress:68.245839progress:69.398207progress:70.678617progress:71.702945progress:72.727273progress:73.751601progress:74.775928progress:75.800256progress:76.824584progress:77.848912progress:78.873239progress:80.025608progress:81.049936progress:82.202305progress:83.482714progress:84.763124progress:86.043534progress:87.323944progress:88.476312progress:89.756722progress:91.037132progress:92.317542progress:93.597951progress:95.134443progress:97.439181progress:1.024328progress:2.048656progress:3.329065progress:4.737516progress:6.017926progress:7.298335progress:9.090909progress:10.755442progress:12.035851progress:13.316261progress:14.468630progress:15.492958progress:16.645327progress:17.669654progress:18.693982progress:19.718310progress:20.742638progress:21.766965progress:22.663252progress:23.687580progress:24.711908progress:25.864277progress:26.888604progress:27.912932progress:28.937260progress:29.961588progress:30.985915progress:32.010243progress:32.906530progress:33.674776progress:34.571063progress:35.467350progress:36.235595progress:37.003841progress:37.772087progress:38.540333progress:39.308579progress:40.076825progress:40.845070progress:41.485275progress:42.253521progress:43.021767progress:43.790013progress:44.558259progress:45.326504progress:46.094750progress:46.862996progress:47.631242progress:48.399488progress:49.167734progress:49.935980progress:50.704225progress:51.472471progress:52.240717progress:52.880922progress:53.521127progress:54.033291progress:54.673496progress:55.313700progress:56.081946progress:57.106274progress:58.130602progress:59.282971progress:60.435339progress:61.587708progress:62.740077progress:63.636364progress:64.660691progress:65.941101progress:66.965429progress:68.117798progress:69.142125progress:70.294494progress:71.446863progress:72.471191progress:73.495519progress:74.519846progress:75.544174progress:76.568502progress:77.592830progress:78.617157progress:79.641485progress:80.793854progress:81.946223progress:83.226633progress:84.379001progress:85.659411progress:86.939821progress:88.092190progress:89.244558progress:90.524968progress:91.805378progress:93.085787progress:94.494238progress:96.286812progress:1.024328progress:2.304738progress:3.585147progress:5.121639progress:6.530090progress:7.938540progress:9.731114progress:11.267606progress:12.548015progress:13.700384progress:14.852753progress:16.005122progress:17.157490progress:18.309859progress:19.334187progress:20.230474progress:21.254802progress:22.151088progress:23.047375progress:24.071703progress:25.224072progress:26.376440progress:27.400768progress:28.425096progress:29.449424progress:30.345711progress:31.370038progress:32.266325progress:33.162612progress:34.058899progress:34.955186progress:35.851472progress:36.619718progress:37.387964progress:38.156210progress:38.924456progress:39.692702progress:40.460948progress:41.229193progress:41.997439progress:42.765685progress:43.533931progress:44.302177progress:45.070423progress:45.838668progress:46.606914progress:47.247119progress:48.015365progress:48.783611progress:49.551857progress:50.320102progress:51.088348progress:51.728553progress:52.368758progress:53.137004progress:53.905250progress:54.673496progress:55.569782progress:56.466069progress:57.490397progress:58.642766progress:59.795134progress:60.947503progress:61.971831progress:62.996159progress:64.020487progress:65.172855progress:66.325224progress:67.477593progress:68.373880progress:69.398207progress:70.550576progress:71.702945progress:72.727273progress:73.495519progress:74.519846progress:75.416133progress:76.440461progress:77.336748progress:78.361076progress:79.257362progress:80.281690progress:81.434059progress:82.586428progress:83.866837progress:85.147247progress:86.427657progress:87.708067progress:88.988476progress:90.268886progress:91.549296progress:92.829706progress:94.110115progress:95.774648progress:98.847631progress:1.024328progress:2.176697progress:3.457106progress:4.865557progress:6.145967progress:7.426376progress:9.218950progress:10.883483progress:12.163892progress:13.444302progress:14.596671progress:15.749040progress:16.773367progress:17.797695progress:18.822023progress:19.846351progress:20.870679progress:21.895006progress:22.791293progress:23.815621progress:24.839949progress:25.992318progress:27.016645progress:28.040973progress:29.065301progress:30.089629progress:31.113956progress:32.138284progress:33.034571progress:33.930858progress:34.827145progress:35.595391progress:36.363636progress:37.131882progress:37.900128progress:38.668374progress:39.436620progress:40.204866progress:40.973111progress:41.613316progress:42.381562progress:43.149808progress:43.918054progress:44.686300progress:45.454545progress:46.222791progress:46.991037progress:47.759283progress:48.527529progress:49.295775progress:50.064020progress:50.832266progress:51.600512progress:52.368758progress:53.137004progress:53.905250progress:54.673496progress:55.441741progress:56.338028progress:57.362356progress:58.386684progress:59.539052progress:60.691421progress:61.843790progress:62.996159progress:64.148528progress:65.428937progress:66.453265progress:67.477593progress:68.501921progress:69.526248progress:70.806658progress:71.959027progress:72.983355progress:74.007682progress:75.032010progress:76.056338progress:77.080666progress:78.104994progress:79.129321progress:80.153649progress:81.306018progress:82.458387progress:83.738796progress:85.019206progress:86.171575progress:87.323944progress:88.476312progress:89.628681progress:90.781050progress:92.061460progress:93.341869progress:94.750320progress:96.927017progress:0.896287progress:2.048656progress:3.201024progress:4.609475progress:6.017926progress:7.426376progress:9.218950progress:10.883483progress:12.163892progress:13.444302progress:14.596671progress:15.749040progress:16.901408progress:18.053777progress:19.078105progress:20.102433progress:21.126761progress:22.151088progress:23.047375progress:24.071703progress:25.224072progress:26.248399progress:27.272727progress:28.297055progress:29.449424progress:30.473752progress:31.498079progress:32.394366progress:33.290653progress:34.186940progress:35.083227progress:35.979513progress:36.747759progress:37.516005progress:38.284251progress:39.052497progress:39.820743progress:40.588988progress:41.229193progress:41.997439progress:42.765685progress:43.533931progress:44.302177progress:45.070423progress:45.838668progress:46.606914progress:47.375160progress:48.143406progress:48.911652progress:49.679898progress:50.448143progress:51.216389progress:51.984635progress:52.752881progress:53.521127progress:54.161332progress:54.929577progress:55.825864progress:56.722151progress:57.746479progress:58.898848progress:60.051216progress:61.203585progress:62.355954progress:63.380282progress:64.532650progress:65.813060progress:66.965429progress:68.117798progress:69.142125progress:70.294494progress:71.446863progress:72.471191progress:73.495519progress:74.519846progress:75.544174progress:76.440461progress:77.464789progress:78.489117progress:79.513444progress:80.665813progress:81.818182progress:83.098592progress:84.250960progress:85.531370progress:86.683739progress:87.836108progress:89.116517progress:90.396927progress:91.677337progress:92.957746progress:94.366197progress:96.286812\r"
     ]
    }
   ],
   "source": [
    "#4 reduction scenarios\n",
    "sc_input = [\"s1\", \"s2\", \"s3\", \"s4\"]\n",
    "yrs_input = [\"2030\"] #years for which you have an emission reduction prediction\n",
    "aqi_input = [\"ug_NO2\", \"ug_PM25_rh50\"]#[\"ppb_O3\", \"ug_NO\", \"ug_NO2\", \"ug_PM10_rh50\", \"ug_PM25_rh50\"] #air quality index \n",
    "gnfr_input = [\"res\", \"trans\", \"agri\"]\n",
    "\n",
    "#define reduction area\n",
    "path_area_cdf_test = './input/reduction_areas/emiRedOn_01005_France.nc'#London_emepCams_0_100_FLIP.nc'\n",
    "area = xr.open_dataset(path_area_cdf_test)\n",
    "area\n",
    "\n",
    "#load basecase emissions \n",
    "path_emission_cdf_test = './input/BC_emiss/BCemis_emepV4_45_cams61_withCond_01005_2019_SecEmis.nc'\n",
    "emis = xr.open_dataset(path_emission_cdf_test)\n",
    "emis\n",
    "\n",
    "for p in aqi_input:  \n",
    "    \n",
    "    #load basecase concentrations\n",
    "    path_base_conc_cdf_test = f'./input/BC_concs/BCconc_emepV4_45_cams61_withCond_01005_2019_SURF_{p}.nc'\n",
    "    conc = xr.open_dataset(path_base_conc_cdf_test)\n",
    "    #load the SRR model\n",
    "    path_model_cdf_test = f'./input/SRR/SR_SURF_{p}.nc' \n",
    "    srr = xr.open_dataset(path_model_cdf_test)\n",
    "\n",
    "    for s in sc_input:\n",
    "        for y in yrs_input:\n",
    "            for gnfr in gnfr_input:\n",
    "\n",
    "                #define percentage reductions\n",
    "                path_reduction_txt_test = f'./input/reduction_perc/{s}/reduction_GNFR_{s}_{y}_{gnfr}.txt'#user_reduction_GNFR_all.txt'\n",
    "                pd.read_csv(path_reduction_txt_test, sep='\\t')\n",
    "\n",
    "                #define output area and downscaling (not implemented now)\n",
    "                path_result_cdf_test = f'./output/{s}/'\n",
    "                downscale_request = 0 # 0 if you do not need downscale, 1 if you need downscale but only for PM concentrations\n",
    "\n",
    "                #run the model and inspect the results - running time around 1 minute\n",
    "                name_result = \"DCconc_\" + s + \"_\" + y + \"_\" + gnfr + \"_\"\n",
    "                res = module1(path_emission_cdf_test, path_area_cdf_test, path_reduction_txt_test, path_base_conc_cdf_test, \n",
    "                      path_model_cdf_test, path_result_cdf_test, name_result, downscale_request)\n",
    "    "
   ]
  },
  {
   "cell_type": "markdown",
   "id": "1bd3eb30-524a-445c-a5fc-ba8f23d2d2c3",
   "metadata": {},
   "source": [
    "## 3. Sensibility analysis: without industry"
   ]
  },
  {
   "cell_type": "code",
   "execution_count": 2,
   "id": "2d322535-9e1b-4dcc-bf11-9e4075f651fc",
   "metadata": {},
   "outputs": [
    {
     "name": "stdout",
     "output_type": "stream",
     "text": [
      "progress:4.609475progress:10.115237progress:14.980794progress:19.462228progress:23.559539progress:27.912932progress:32.138284progress:35.851472progress:39.052497progress:41.741357progress:44.942382progress:48.271447progress:51.344430progress:54.673496progress:58.770807progress:63.252241progress:67.861716progress:72.343150progress:76.568502progress:80.921895progress:85.531370progress:90.396927progress:95.646607progress:4.609475progress:10.371319progress:15.108835progress:19.590269progress:23.687580progress:28.040973progress:32.138284progress:35.851472progress:39.180538progress:42.381562progress:45.838668progress:49.167734progress:52.240717progress:55.185659progress:59.282971progress:63.764405progress:68.245839progress:72.727273progress:76.952625progress:81.434059progress:86.299616progress:91.165173progress:96.798976progress:4.481434progress:9.859155progress:14.340589progress:18.693982progress:22.791293progress:27.144686progress:31.370038progress:35.083227progress:38.412292progress:41.613316progress:44.814341progress:48.143406progress:51.344430progress:54.673496progress:58.770807progress:63.252241progress:67.989757progress:71.830986progress:75.928297progress:80.281690progress:85.019206progress:89.884763progress:95.006402progress:4.609475progress:10.243278progress:15.108835progress:19.590269progress:23.687580progress:28.040973progress:32.266325progress:35.979513progress:39.308579progress:42.509603progress:45.838668progress:49.039693progress:52.112676progress:55.441741progress:59.411012progress:63.892446progress:68.501921progress:72.983355progress:77.208707progress:81.690141progress:86.683739progress:90.396927progress:93.982074progress:0.896287progress:1.920615progress:3.072983progress:4.353393progress:5.761844progress:7.042254progress:8.706786progress:10.243278progress:11.395647progress:12.163892progress:13.188220progress:14.340589progress:15.364917progress:16.389245progress:17.285531progress:18.309859progress:18.950064progress:19.462228progress:19.974392progress:20.486556progress:21.254802progress:21.766965progress:22.407170progress:22.919334progress:23.431498progress:24.199744progress:25.096031progress:25.992318progress:26.888604progress:27.656850progress:28.553137progress:29.577465progress:30.473752progress:31.241997progress:31.882202progress:32.650448progress:33.418694progress:34.186940progress:34.955186progress:35.723431progress:36.107554progress:36.875800progress:37.644046progress:38.412292progress:39.180538progress:39.948784progress:40.588988progress:41.229193progress:41.869398progress:42.381562progress:42.765685progress:43.021767progress:43.405890progress:43.790013progress:44.174136progress:44.558259progress:44.942382progress:45.326504progress:45.710627progress:46.094750progress:46.478873progress:46.862996progress:47.119078progress:47.503201progress:48.015365progress:48.527529progress:49.039693progress:49.423816progress:49.807939progress:50.320102progress:50.960307progress:51.600512progress:52.112676progress:52.624840progress:53.137004progress:53.905250progress:54.545455progress:55.185659progress:55.825864progress:56.594110progress:57.234315progress:57.874520progress:58.386684progress:59.026889progress:59.923175progress:60.563380progress:61.203585progress:61.971831progress:62.483995progress:62.996159progress:63.892446progress:64.404609progress:65.172855progress:65.941101progress:66.837388progress:67.605634progress:68.629962progress:69.526248progress:70.422535progress:71.190781progress:71.959027progress:72.983355progress:73.879641progress:74.647887progress:75.416133progress:76.184379progress:76.952625progress:77.592830progress:78.233035progress:78.873239progress:79.513444progress:80.025608progress:80.921895progress:81.562100progress:82.202305progress:83.226633progress:83.866837progress:84.507042progress:85.147247progress:85.787452progress:86.939821progress:87.836108progress:88.988476progress:89.884763progress:90.781050progress:91.933419progress:93.213828progress:94.622279progress:96.030730progress:98.207426progress:0.640205progress:1.536492progress:2.816901progress:3.585147progress:4.737516progress:5.633803progress:6.786172progress:8.322663progress:10.115237progress:11.267606progress:12.035851progress:13.060179progress:13.956466progress:14.724712progress:15.877081progress:16.645327progress:17.669654progress:18.437900progress:19.334187progress:19.974392progress:20.486556progress:21.382843progress:21.895006progress:22.535211progress:23.431498progress:24.199744progress:24.967990progress:25.608195progress:26.120359progress:26.760563progress:27.528809progress:28.425096progress:29.321383progress:30.089629progress:30.857875progress:31.626120progress:32.394366progress:33.162612progress:33.930858progress:34.699104progress:35.339309progress:35.979513progress:36.619718progress:37.131882progress:37.900128progress:38.668374progress:39.308579progress:39.948784progress:40.588988progress:41.357234progress:42.125480progress:42.765685progress:43.149808progress:43.661972progress:44.174136progress:44.814341progress:45.582586progress:46.094750progress:46.606914progress:47.119078progress:47.887324progress:48.655570progress:49.423816progress:50.064020progress:50.704225progress:51.216389progress:51.728553progress:52.240717progress:52.752881progress:53.265045progress:53.777209progress:54.161332progress:54.545455progress:55.185659progress:55.953905progress:56.594110progress:57.234315progress:58.002561progress:58.770807progress:59.667093progress:60.819462progress:61.715749progress:62.612036progress:63.636364progress:64.276569progress:65.044814progress:65.941101progress:66.581306progress:67.221511progress:67.989757progress:68.629962progress:69.526248progress:70.422535progress:71.190781progress:71.959027progress:72.855314progress:73.623560progress:74.647887progress:75.544174progress:76.568502progress:77.592830progress:78.617157progress:79.769526progress:80.921895progress:82.074264progress:83.354673progress:84.635083progress:85.915493progress:87.195903progress:88.476312progress:89.756722progress:91.037132progress:92.317542progress:93.597951progress:95.134443progress:97.567222progress:0.640205progress:1.792574progress:3.201024progress:4.481434progress:5.889885progress:7.298335progress:9.218950progress:11.011524progress:12.419974progress:13.700384progress:14.852753progress:16.133163progress:17.285531progress:18.437900progress:19.590269progress:20.614597progress:21.638924progress:22.663252progress:23.687580progress:24.711908progress:25.736236progress:26.632522progress:27.400768progress:28.297055progress:29.193342progress:29.833547progress:30.729834progress:31.498079progress:32.266325progress:33.034571progress:33.802817progress:34.443022progress:34.955186progress:35.595391progress:36.363636progress:37.131882progress:37.900128progress:38.668374progress:39.436620progress:40.204866progress:40.973111progress:41.741357progress:42.509603progress:43.277849progress:44.046095progress:44.942382progress:45.838668progress:46.734955progress:47.503201progress:48.271447progress:49.039693progress:49.807939progress:50.576184progress:51.344430progress:52.112676progress:52.880922progress:53.649168progress:54.417414progress:55.313700progress:56.209987progress:57.234315progress:58.386684progress:59.539052progress:60.691421progress:61.843790progress:62.996159progress:64.148528progress:65.428937progress:66.709347progress:67.861716progress:68.886044progress:70.038412progress:71.318822progress:72.343150progress:73.367478progress:74.391805progress:75.416133progress:76.440461progress:77.464789progress:78.489117progress:79.385403progress:80.281690progress:81.434059progress:82.330346progress:83.226633progress:84.507042progress:85.787452progress:86.939821progress:88.092190progress:89.244558progress:90.524968progress:91.677337progress:92.957746progress:94.238156progress:95.902689progress:98.207426progress:0.640205progress:1.280410progress:2.304738progress:3.201024progress:4.481434progress:5.761844progress:6.914213progress:8.194622progress:9.859155progress:11.139565progress:12.291933progress:13.444302progress:14.468630progress:15.492958progress:16.389245progress:17.413572progress:18.309859progress:19.206146progress:20.102433progress:20.998720progress:21.895006progress:22.791293progress:23.687580progress:24.711908progress:25.864277progress:26.888604progress:27.912932progress:28.937260progress:29.961588progress:30.857875progress:31.754161progress:32.522407progress:33.290653progress:34.186940progress:35.083227progress:35.851472progress:36.619718progress:37.387964progress:38.028169progress:38.796415progress:39.436620progress:40.076825progress:40.717029progress:41.357234progress:41.997439progress:42.637644progress:43.277849progress:44.046095progress:44.814341progress:45.582586progress:46.222791progress:46.991037progress:47.631242progress:48.271447progress:48.911652progress:49.551857progress:50.064020progress:50.576184progress:51.216389progress:51.856594progress:52.368758progress:53.137004progress:53.777209progress:54.417414progress:55.185659progress:55.825864progress:56.722151progress:57.746479progress:58.770807progress:59.795134progress:60.947503progress:61.971831progress:62.996159progress:64.020487progress:64.916773progress:65.941101progress:66.965429progress:67.989757progress:68.758003progress:69.782330progress:70.934699progress:71.959027progress:72.855314progress:73.879641progress:74.903969progress:75.928297progress:76.952625progress:77.848912progress:78.873239progress:80.025608progress:81.177977progress:82.458387progress:83.738796progress:85.019206progress:86.299616progress:87.580026progress:88.860435progress:90.140845progress:91.421255progress:92.701665progress:94.110115progress:95.774648progress:98.975672\r"
     ]
    }
   ],
   "source": [
    "#to do the same sensibility analysis for condensates and plaisance, you just have to change de the number \"2\" by \"_pl\" or \"_cond\" \n",
    "#in path_reduction_txt_test and in name_result\n",
    "\n",
    "\n",
    "#4 reduction scenarios\n",
    "sc_input = [\"s1\", \"s2\", \"s3\", \"s4\"]\n",
    "yrs_input = [\"2030\"] #years for which you have an emission reduction prediction\n",
    "aqi_input = [\"ug_NO2\", \"ug_PM25_rh50\"]#[\"ppb_O3\", \"ug_NO\", \"ug_NO2\", \"ug_PM10_rh50\", \"ug_PM25_rh50\"] #air quality index \n",
    "\n",
    "#define reduction area\n",
    "path_area_cdf_test = './input/reduction_areas/emiRedOn_01005_France.nc'#London_emepCams_0_100_FLIP.nc'\n",
    "area = xr.open_dataset(path_area_cdf_test)\n",
    "area\n",
    "\n",
    "#load basecase emissions \n",
    "path_emission_cdf_test = './input/BC_emiss/BCemis_emepV4_45_cams61_withCond_01005_2019_SecEmis.nc'\n",
    "emis = xr.open_dataset(path_emission_cdf_test)\n",
    "emis\n",
    "\n",
    "for p in aqi_input:  \n",
    "    \n",
    "    #load basecase concentrations\n",
    "    path_base_conc_cdf_test = f'./input/BC_concs/BCconc_emepV4_45_cams61_withCond_01005_2019_SURF_{p}.nc'\n",
    "    conc = xr.open_dataset(path_base_conc_cdf_test)\n",
    "    #load the SRR model\n",
    "    path_model_cdf_test = f'./input/SRR/SR_SURF_{p}.nc' \n",
    "    srr = xr.open_dataset(path_model_cdf_test)\n",
    "\n",
    "    for s in sc_input:\n",
    "        for y in yrs_input:\n",
    "\n",
    "            #define percentage reductions\n",
    "            path_reduction_txt_test = f'./input/reduction_perc/{s}/reduction_GNFR2_{s}_{y}.txt'#user_reduction_GNFR_all.txt'\n",
    "            pd.read_csv(path_reduction_txt_test, sep='\\t')\n",
    "\n",
    "            #define output area and downscaling (not implemented now)\n",
    "            path_result_cdf_test = f'./output/{s}/'\n",
    "            downscale_request = 0 # 0 if you do not need downscale, 1 if you need downscale but only for PM concentrations\n",
    "\n",
    "            #run the model and inspect the results - running time around 1 minute\n",
    "            name_result = \"DCconc_2_\" + s + \"_\" + y + \"_\"\n",
    "            res = module1(path_emission_cdf_test, path_area_cdf_test, path_reduction_txt_test, path_base_conc_cdf_test, \n",
    "                      path_model_cdf_test, path_result_cdf_test, name_result, downscale_request)\n",
    "    "
   ]
  },
  {
   "cell_type": "markdown",
   "id": "2bac6c6d-59e9-42be-a301-f0a5a696fed7",
   "metadata": {},
   "source": [
    "## 4. Sensibility analysis: without frontiers (all EU)"
   ]
  },
  {
   "cell_type": "code",
   "execution_count": 2,
   "id": "2c3fa01a-f6f9-4ad8-be88-3d2285594169",
   "metadata": {},
   "outputs": [
    {
     "name": "stdout",
     "output_type": "stream",
     "text": [
      "progress:4.353393progress:9.731114progress:14.596671progress:18.950064progress:22.919334progress:27.144686progress:31.370038progress:34.955186progress:38.156210progress:41.229193progress:44.430218progress:47.631242progress:50.704225progress:53.777209progress:57.490397progress:61.843790progress:66.197183progress:70.550576progress:74.135723progress:77.720871progress:81.690141progress:86.299616progress:91.037132progress:96.158771progress:4.481434progress:10.115237progress:14.852753progress:19.334187progress:23.047375progress:27.272727progress:31.241997progress:34.827145progress:38.028169progress:41.229193progress:44.558259progress:47.759283progress:50.832266progress:54.033291progress:57.618438progress:62.099872progress:66.581306progress:71.062740progress:75.288092progress:79.513444progress:84.250960progress:88.860435progress:92.957746progress:4.353393progress:9.859155progress:14.724712progress:19.206146progress:23.047375progress:27.016645progress:30.985915progress:34.699104progress:38.028169progress:41.101152progress:44.302177progress:47.631242progress:50.704225progress:53.777209progress:57.490397progress:61.843790progress:66.197183progress:70.678617progress:74.647887progress:78.873239progress:83.354673progress:88.220230progress:92.957746progress:4.097311progress:9.346991progress:13.956466progress:18.181818progress:22.151088progress:26.248399progress:30.473752progress:34.314981progress:37.644046progress:40.717029progress:43.918054progress:47.247119progress:50.448143progress:53.521127progress:57.106274progress:61.459667progress:65.941101progress:70.294494progress:74.519846progress:78.489117progress:82.970551progress:87.836108progress:92.445583progress:98.975672progress:0.896287progress:2.048656progress:3.329065progress:4.609475progress:5.889885progress:7.170294progress:8.834827progress:10.499360progress:11.779770progress:13.060179progress:14.212548progress:15.364917progress:16.517286progress:17.541613progress:18.565941progress:19.590269progress:20.614597progress:21.638924progress:22.535211progress:23.559539progress:24.583867progress:25.736236progress:26.760563progress:27.784891progress:28.681178progress:29.577465progress:30.601793progress:31.626120progress:32.522407progress:33.418694progress:34.314981progress:35.211268progress:35.851472progress:36.619718progress:37.387964progress:38.156210progress:38.924456progress:39.692702progress:40.460948progress:41.229193progress:41.997439progress:42.765685progress:43.533931progress:44.302177progress:45.070423progress:45.838668progress:46.606914progress:47.375160progress:48.143406progress:48.911652progress:49.679898progress:50.448143progress:51.088348progress:51.856594progress:52.624840progress:53.393086progress:54.161332progress:54.929577progress:55.697823progress:56.466069progress:57.490397progress:58.514725progress:59.539052progress:60.691421progress:61.715749progress:62.740077progress:63.764405progress:64.916773progress:66.197183progress:67.349552progress:68.501921progress:69.526248progress:70.550576progress:71.446863progress:72.471191progress:73.495519progress:74.263764progress:75.160051progress:76.056338progress:76.952625progress:77.848912progress:78.745198progress:79.641485progress:80.665813progress:81.690141progress:82.714469progress:83.866837progress:85.019206progress:86.043534progress:87.195903progress:88.348271progress:89.500640progress:90.653009progress:91.805378progress:92.701665progress:93.469910progress:94.366197progress:95.390525progress:97.311140progress:0.640205progress:1.408451progress:2.304738progress:3.201024progress:4.225352progress:5.249680progress:6.145967progress:7.170294progress:8.322663progress:9.731114progress:10.883483progress:11.779770progress:12.676056progress:13.316261progress:14.084507progress:14.980794progress:15.620999progress:16.133163progress:16.773367progress:17.157490progress:17.541613progress:17.925736progress:18.309859progress:18.693982progress:19.206146progress:19.846351progress:20.486556progress:20.870679progress:21.510883progress:22.023047progress:22.407170progress:22.791293progress:23.303457progress:23.815621progress:24.327785progress:24.967990progress:25.480154progress:26.120359progress:26.888604progress:27.656850progress:28.297055progress:28.809219progress:29.449424progress:29.961588progress:30.473752progress:30.985915progress:31.498079progress:32.010243progress:32.522407progress:33.034571progress:33.546735progress:34.058899progress:34.699104progress:35.339309progress:35.979513progress:36.491677progress:37.003841progress:37.387964progress:37.900128progress:38.412292progress:38.796415progress:39.180538progress:39.436620progress:39.820743progress:40.204866progress:40.460948progress:40.717029progress:41.101152progress:41.613316progress:41.997439progress:42.509603progress:42.765685progress:43.149808progress:43.533931progress:43.918054progress:44.430218progress:44.942382progress:45.454545progress:45.966709progress:46.478873progress:46.991037progress:47.375160progress:47.887324progress:48.399488progress:48.911652progress:49.423816progress:49.935980progress:50.448143progress:50.960307progress:51.472471progress:51.984635progress:52.368758progress:52.752881progress:53.137004progress:53.521127progress:53.905250progress:54.417414progress:54.929577progress:55.313700progress:55.953905progress:56.594110progress:57.234315progress:57.746479progress:58.386684progress:59.026889progress:59.667093progress:60.435339progress:61.203585progress:62.099872progress:63.124200progress:64.020487progress:65.044814progress:66.197183progress:67.221511progress:68.245839progress:69.142125progress:70.166453progress:71.190781progress:72.087068progress:72.983355progress:73.879641progress:74.775928progress:75.672215progress:76.568502progress:77.464789progress:78.361076progress:79.385403progress:80.409731progress:81.434059progress:82.586428progress:83.738796progress:84.891165progress:86.043534progress:87.195903progress:88.348271progress:89.500640progress:90.653009progress:91.805378progress:92.957746progress:94.110115progress:95.646607progress:98.079385progress:0.896287progress:1.920615progress:3.072983progress:4.353393progress:5.633803progress:6.786172progress:8.066581progress:9.731114progress:11.139565progress:12.291933progress:13.444302progress:14.468630progress:15.492958progress:16.517286progress:17.413572progress:18.309859progress:19.206146progress:20.102433progress:20.998720progress:21.895006progress:22.663252progress:23.559539progress:24.455826progress:25.480154progress:26.376440progress:27.272727progress:28.169014progress:29.065301progress:29.961588progress:30.857875progress:31.754161progress:32.522407progress:33.290653progress:34.058899progress:34.827145progress:35.595391progress:36.363636progress:37.003841progress:37.644046progress:38.284251progress:38.924456progress:39.564661progress:40.204866progress:40.845070progress:41.485275progress:42.125480progress:42.893726progress:43.533931progress:44.174136progress:44.942382progress:45.710627progress:46.478873progress:47.119078progress:47.759283progress:48.399488progress:49.167734progress:49.807939progress:50.448143progress:51.088348progress:51.728553progress:52.368758progress:53.008963progress:53.649168progress:54.417414progress:55.185659progress:55.953905progress:56.850192progress:57.746479progress:58.770807progress:59.795134progress:60.819462progress:61.843790progress:62.868118progress:63.892446progress:64.916773progress:66.069142progress:67.093470progress:68.117798progress:69.014085progress:70.038412progress:71.062740progress:71.959027progress:72.855314progress:73.751601progress:74.647887progress:75.544174progress:76.440461progress:77.336748progress:78.233035progress:79.129321progress:79.897567progress:80.793854progress:81.818182progress:82.842510progress:83.994878progress:85.147247progress:86.171575progress:87.323944progress:88.348271progress:89.500640progress:90.653009progress:91.805378progress:92.957746progress:94.238156progress:95.774648progress:98.335467progress:0.896287progress:1.920615progress:3.072983progress:4.353393progress:5.633803progress:6.786172progress:8.066581progress:9.731114progress:11.139565progress:12.291933progress:13.444302progress:14.468630progress:15.492958progress:16.517286progress:17.541613progress:18.437900progress:19.334187progress:20.230474progress:21.126761progress:22.023047progress:22.919334progress:23.815621progress:24.711908progress:25.736236progress:26.632522progress:27.528809progress:28.425096progress:29.321383progress:30.345711progress:31.241997progress:32.138284progress:32.906530progress:33.674776progress:34.443022progress:35.211268progress:35.979513progress:36.747759progress:37.387964progress:38.028169progress:38.668374progress:39.308579progress:39.948784progress:40.588988progress:41.229193progress:41.869398progress:42.509603progress:43.149808progress:43.790013progress:44.430218progress:45.070423progress:45.838668progress:46.606914progress:47.247119progress:47.887324progress:48.527529progress:49.167734progress:49.807939progress:50.448143progress:51.088348progress:51.728553progress:52.368758progress:53.008963progress:53.649168progress:54.289373progress:55.057618progress:55.825864progress:56.722151progress:57.746479progress:58.770807progress:59.795134progress:60.819462progress:61.715749progress:62.740077progress:63.636364progress:64.660691progress:65.813060progress:66.837388progress:67.861716progress:68.758003progress:69.782330progress:70.934699progress:71.830986progress:72.471191progress:73.111396progress:73.879641progress:74.519846progress:75.288092progress:76.056338progress:76.824584progress:77.720871progress:78.745198progress:79.769526progress:80.665813progress:81.690141progress:82.586428progress:83.738796progress:84.891165progress:85.915493progress:86.939821progress:88.092190progress:89.116517progress:90.140845progress:91.293214progress:92.317542progress:93.341869progress:94.494238progress:95.902689progress:97.695262\r"
     ]
    }
   ],
   "source": [
    "\n",
    "#4 reduction scenarios\n",
    "sc_input = [\"s1\", \"s2\", \"s3\", \"s4\"]\n",
    "yrs_input = [\"2030\"] #years for which you have an emission reduction prediction\n",
    "aqi_input = [\"ug_NO2\", \"ug_PM25_rh50\"]#[\"ppb_O3\", \"ug_NO\", \"ug_NO2\", \"ug_PM10_rh50\", \"ug_PM25_rh50\"] #air quality index \n",
    "\n",
    "#define reduction area\n",
    "path_area_cdf_test = './input/reduction_areas/emiRedOn_01005_EU.nc'#London_emepCams_0_100_FLIP.nc'\n",
    "area = xr.open_dataset(path_area_cdf_test)\n",
    "area\n",
    "\n",
    "#load basecase emissions \n",
    "path_emission_cdf_test = './input/BC_emiss/BCemis_emepV4_45_cams61_withCond_01005_2019_SecEmis.nc'\n",
    "emis = xr.open_dataset(path_emission_cdf_test)\n",
    "emis\n",
    "\n",
    "for p in aqi_input:  \n",
    "    \n",
    "    #load basecase concentrations\n",
    "    path_base_conc_cdf_test = f'./input/BC_concs/BCconc_emepV4_45_cams61_withCond_01005_2019_SURF_{p}.nc'\n",
    "    conc = xr.open_dataset(path_base_conc_cdf_test)\n",
    "    #load the SRR model\n",
    "    path_model_cdf_test = f'./input/SRR/SR_SURF_{p}.nc' \n",
    "    srr = xr.open_dataset(path_model_cdf_test)\n",
    "\n",
    "    for s in sc_input:\n",
    "        for y in yrs_input:\n",
    "\n",
    "            #define percentage reductions\n",
    "            path_reduction_txt_test = f'./input/reduction_perc/{s}/reduction_GNFR_{s}_{y}.txt'#user_reduction_GNFR_all.txt'\n",
    "            pd.read_csv(path_reduction_txt_test, sep='\\t')\n",
    "\n",
    "            #define output area and downscaling (not implemented now)\n",
    "            path_result_cdf_test = f'./output/{s}/'\n",
    "            downscale_request = 0 # 0 if you do not need downscale, 1 if you need downscale but only for PM concentrations\n",
    "\n",
    "            #run the model and inspect the results - running time around 1 minute\n",
    "            name_result = \"DCconc_EU_\" + s + \"_\" + y + \"_\"\n",
    "            res = module1(path_emission_cdf_test, path_area_cdf_test, path_reduction_txt_test, path_base_conc_cdf_test, \n",
    "                      path_model_cdf_test, path_result_cdf_test, name_result, downscale_request)\n",
    "    "
   ]
  },
  {
   "cell_type": "code",
   "execution_count": null,
   "id": "bf56f57b-1293-49ed-928d-15b3f93afe4b",
   "metadata": {},
   "outputs": [],
   "source": []
  }
 ],
 "metadata": {
  "kernelspec": {
   "display_name": "py310-sherpa",
   "language": "python",
   "name": "py310-sherpa"
  },
  "language_info": {
   "codemirror_mode": {
    "name": "ipython",
    "version": 3
   },
   "file_extension": ".py",
   "mimetype": "text/x-python",
   "name": "python",
   "nbconvert_exporter": "python",
   "pygments_lexer": "ipython3",
   "version": "3.9.19"
  }
 },
 "nbformat": 4,
 "nbformat_minor": 5
}
